{
 "cells": [
  {
   "cell_type": "markdown",
   "id": "f4b86a11",
   "metadata": {},
   "source": [
    "# Data preprocessing"
   ]
  },
  {
   "cell_type": "code",
   "execution_count": 4,
   "id": "456b7f5f",
   "metadata": {},
   "outputs": [],
   "source": [
    "import pandas as pd\n",
    "# Import data\n",
    "df_raw = pd.read_excel('../Data/DATA_UFM_combined.xlsx', header=0)\n",
    "\n",
    "# Columns to keep\n",
    "cols = [\n",
    "    'udbud_id',\n",
    "    'titel',\n",
    "    'educational_category',\n",
    "    'displaydocclass',\n",
    "    'hovedinsttx',\n",
    "    'instregiontx',\n",
    "    'instkommunetx',\n",
    "    'arbejdstid_timer',\n",
    "    'arbmedstud_likert',\n",
    "    'ensom_likert',\n",
    "    'maanedloen_10aar',\n",
    "    'maanedloen_nyudd',\n",
    "    'tidsforbrug_p50',\n",
    "]\n",
    "\n",
    "data = df_raw[cols]\n",
    "\n",
    "# Remove all udbud_id==999999, as this is the education on national level\n",
    "data_whole_edu = data[data['udbud_id'] == 999999]\n",
    "data = data[data['udbud_id'] != 999999]\n",
    "\n",
    "# Remove the udbud_id column\n",
    "data = data.drop(columns=['udbud_id'])\n",
    "\n",
    "data_na = data.copy()\n",
    "# Remove all rows with missing values\n",
    "data = data.dropna()"
   ]
  },
  {
   "cell_type": "markdown",
   "id": "0d3a6062",
   "metadata": {},
   "source": [
    "## Input experiment"
   ]
  },
  {
   "cell_type": "code",
   "execution_count": 31,
   "id": "8cc64192",
   "metadata": {},
   "outputs": [
    {
     "data": {
      "text/html": [
       "\n",
       "  <div id=\"e67a619c-426f-4bb0-adc5-a42b4f2ddeb0\" data-root-id=\"p2047\" style=\"display: contents;\"></div>\n"
      ]
     },
     "metadata": {},
     "output_type": "display_data"
    },
    {
     "data": {
      "application/javascript": "(function(root) {\n  function embed_document(root) {\n  const docs_json = {\"55337ae4-023b-4397-9936-308538c11c7c\":{\"version\":\"3.8.0\",\"title\":\"Bokeh Application\",\"config\":{\"type\":\"object\",\"name\":\"DocumentConfig\",\"id\":\"p2048\",\"attributes\":{\"notifications\":{\"type\":\"object\",\"name\":\"Notifications\",\"id\":\"p2049\"}}},\"roots\":[{\"type\":\"object\",\"name\":\"Column\",\"id\":\"p2047\",\"attributes\":{\"children\":[{\"type\":\"object\",\"name\":\"Row\",\"id\":\"p2045\",\"attributes\":{\"children\":[{\"type\":\"object\",\"name\":\"TextInput\",\"id\":\"p2043\",\"attributes\":{\"js_property_callbacks\":{\"type\":\"map\",\"entries\":[[\"change:value\",[{\"type\":\"object\",\"name\":\"CustomJS\",\"id\":\"p2044\",\"attributes\":{\"args\":{\"type\":\"map\",\"entries\":[[\"other\",{\"type\":\"object\",\"name\":\"VBar\",\"id\":\"p2037\",\"attributes\":{\"x\":{\"type\":\"field\",\"field\":\"x\"},\"width\":{\"type\":\"value\",\"value\":0.5},\"top\":{\"type\":\"field\",\"field\":\"top\"},\"line_color\":{\"type\":\"value\",\"value\":\"#1f77b4\"},\"fill_color\":{\"type\":\"value\",\"value\":\"#1f77b4\"}}}]]},\"code\":\"other.fill_color = this.value\"}}]]]},\"title\":\"Label:\",\"value\":\"#1f77b4\"}}]}},{\"type\":\"object\",\"name\":\"Row\",\"id\":\"p2046\",\"attributes\":{\"children\":[{\"type\":\"object\",\"name\":\"Figure\",\"id\":\"p2011\",\"attributes\":{\"height\":400,\"x_range\":{\"type\":\"object\",\"name\":\"FactorRange\",\"id\":\"p2021\",\"attributes\":{\"factors\":[\"Erhvervsakademiuddannelser\",\"Professionsbacheloruddannelser\",\"Universitetsuddannelser\",\"Andre uddannelser\"]}},\"y_range\":{\"type\":\"object\",\"name\":\"DataRange1d\",\"id\":\"p2013\",\"attributes\":{\"start\":0}},\"x_scale\":{\"type\":\"object\",\"name\":\"CategoricalScale\",\"id\":\"p2022\"},\"y_scale\":{\"type\":\"object\",\"name\":\"LinearScale\",\"id\":\"p2023\"},\"title\":{\"type\":\"object\",\"name\":\"Title\",\"id\":\"p2014\",\"attributes\":{\"text\":\"Counts of Educational Categories\"}},\"renderers\":[{\"type\":\"object\",\"name\":\"GlyphRenderer\",\"id\":\"p2040\",\"attributes\":{\"data_source\":{\"type\":\"object\",\"name\":\"ColumnDataSource\",\"id\":\"p2034\",\"attributes\":{\"selected\":{\"type\":\"object\",\"name\":\"Selection\",\"id\":\"p2035\",\"attributes\":{\"indices\":[],\"line_indices\":[]}},\"selection_policy\":{\"type\":\"object\",\"name\":\"UnionRenderers\",\"id\":\"p2036\"},\"data\":{\"type\":\"map\",\"entries\":[[\"x\",[\"Erhvervsakademiuddannelser\",\"Professionsbacheloruddannelser\",\"Universitetsuddannelser\",\"Andre uddannelser\"]],[\"top\",{\"type\":\"ndarray\",\"array\":{\"type\":\"bytes\",\"data\":\"H4sIAAEAAAAC/9vNwMAwA4i1gZgRiAF4JfZtEAAAAA==\"},\"shape\":[4],\"dtype\":\"int32\",\"order\":\"little\"}]]}}},\"view\":{\"type\":\"object\",\"name\":\"CDSView\",\"id\":\"p2041\",\"attributes\":{\"filter\":{\"type\":\"object\",\"name\":\"AllIndices\",\"id\":\"p2042\"}}},\"glyph\":{\"id\":\"p2037\"},\"nonselection_glyph\":{\"type\":\"object\",\"name\":\"VBar\",\"id\":\"p2038\",\"attributes\":{\"x\":{\"type\":\"field\",\"field\":\"x\"},\"width\":{\"type\":\"value\",\"value\":0.5},\"top\":{\"type\":\"field\",\"field\":\"top\"},\"line_color\":{\"type\":\"value\",\"value\":\"#1f77b4\"},\"line_alpha\":{\"type\":\"value\",\"value\":0.1},\"fill_color\":{\"type\":\"value\",\"value\":\"#1f77b4\"},\"fill_alpha\":{\"type\":\"value\",\"value\":0.1},\"hatch_alpha\":{\"type\":\"value\",\"value\":0.1}}},\"muted_glyph\":{\"type\":\"object\",\"name\":\"VBar\",\"id\":\"p2039\",\"attributes\":{\"x\":{\"type\":\"field\",\"field\":\"x\"},\"width\":{\"type\":\"value\",\"value\":0.5},\"top\":{\"type\":\"field\",\"field\":\"top\"},\"line_color\":{\"type\":\"value\",\"value\":\"#1f77b4\"},\"line_alpha\":{\"type\":\"value\",\"value\":0.2},\"fill_color\":{\"type\":\"value\",\"value\":\"#1f77b4\"},\"fill_alpha\":{\"type\":\"value\",\"value\":0.2},\"hatch_alpha\":{\"type\":\"value\",\"value\":0.2}}}}}],\"toolbar\":{\"type\":\"object\",\"name\":\"Toolbar\",\"id\":\"p2020\"},\"toolbar_location\":null,\"left\":[{\"type\":\"object\",\"name\":\"LinearAxis\",\"id\":\"p2029\",\"attributes\":{\"ticker\":{\"type\":\"object\",\"name\":\"BasicTicker\",\"id\":\"p2030\",\"attributes\":{\"mantissas\":[1,2,5]}},\"formatter\":{\"type\":\"object\",\"name\":\"BasicTickFormatter\",\"id\":\"p2031\"},\"major_label_policy\":{\"type\":\"object\",\"name\":\"AllLabels\",\"id\":\"p2032\"}}}],\"below\":[{\"type\":\"object\",\"name\":\"CategoricalAxis\",\"id\":\"p2024\",\"attributes\":{\"ticker\":{\"type\":\"object\",\"name\":\"CategoricalTicker\",\"id\":\"p2025\"},\"formatter\":{\"type\":\"object\",\"name\":\"CategoricalTickFormatter\",\"id\":\"p2026\"},\"major_label_policy\":{\"type\":\"object\",\"name\":\"AllLabels\",\"id\":\"p2027\"}}}],\"center\":[{\"type\":\"object\",\"name\":\"Grid\",\"id\":\"p2028\",\"attributes\":{\"axis\":{\"id\":\"p2024\"},\"grid_line_color\":null}},{\"type\":\"object\",\"name\":\"Grid\",\"id\":\"p2033\",\"attributes\":{\"dimension\":1,\"axis\":{\"id\":\"p2029\"}}}]}}]}}]}}]}};\n  const render_items = [{\"docid\":\"55337ae4-023b-4397-9936-308538c11c7c\",\"roots\":{\"p2047\":\"e67a619c-426f-4bb0-adc5-a42b4f2ddeb0\"},\"root_ids\":[\"p2047\"]}];\n  void root.Bokeh.embed.embed_items_notebook(docs_json, render_items);\n  }\n  if (root.Bokeh !== undefined) {\n    embed_document(root);\n  } else {\n    let attempts = 0;\n    const timer = setInterval(function(root) {\n      if (root.Bokeh !== undefined) {\n        clearInterval(timer);\n        embed_document(root);\n      } else {\n        attempts++;\n        if (attempts > 100) {\n          clearInterval(timer);\n          console.log(\"Bokeh: ERROR: Unable to run BokehJS code because BokehJS library is missing\");\n        }\n      }\n    }, 10, root)\n  }\n})(window);",
      "application/vnd.bokehjs_exec.v0+json": ""
     },
     "metadata": {
      "application/vnd.bokehjs_exec.v0+json": {
       "id": "p2047"
      }
     },
     "output_type": "display_data"
    }
   ],
   "source": [
    "from bokeh.models import ColumnDataSource, Whisker\n",
    "from bokeh.plotting import figure, show\n",
    "from bokeh.models import TextInput\n",
    "from bokeh.layouts import layout\n",
    "\n",
    "\n",
    "p = figure(x_range=data['educational_category'].unique().tolist(), height=400,\n",
    "           tools=\"\", toolbar_location=None, title=\"Counts of Educational Categories\")\n",
    "# Make a bar chart of educational_category counts\n",
    "\n",
    "colors = p.vbar(x=data['educational_category'].unique().tolist(), top=data['educational_category'].value_counts(), width=0.5)\n",
    "# p.vbar(x='educational_category', top=)\n",
    "\n",
    "p.xgrid.grid_line_color = None\n",
    "p.y_range.start = 0\n",
    "\n",
    "textinput = TextInput(value=colors.glyph.fill_color, title=\"Label:\")\n",
    "textinput.js_link(\"value\", colors.glyph, \"fill_color\")\n",
    "\n",
    "layout = layout([textinput], [p])\n",
    "\n",
    "show(layout)\n"
   ]
  },
  {
   "cell_type": "markdown",
   "id": "dce224f8",
   "metadata": {},
   "source": [
    "## Brush and linking experiment"
   ]
  },
  {
   "cell_type": "code",
   "execution_count": 44,
   "id": "9add245f",
   "metadata": {},
   "outputs": [
    {
     "data": {
      "text/html": [
       "\n",
       "  <div id=\"c8e14fe5-3102-404e-8e7d-0b0b60f7ba45\" data-root-id=\"p3513\" style=\"display: contents;\"></div>\n"
      ]
     },
     "metadata": {},
     "output_type": "display_data"
    },
    {
     "data": {
      "application/javascript": "(function(root) {\n  function embed_document(root) {\n  const docs_json = {\"d33a24ed-58bb-4394-a0f7-09f0710dd98c\":{\"version\":\"3.8.0\",\"title\":\"Bokeh Application\",\"config\":{\"type\":\"object\",\"name\":\"DocumentConfig\",\"id\":\"p3515\",\"attributes\":{\"notifications\":{\"type\":\"object\",\"name\":\"Notifications\",\"id\":\"p3516\"}}},\"roots\":[{\"type\":\"object\",\"name\":\"GridPlot\",\"id\":\"p3513\",\"attributes\":{\"rows\":null,\"cols\":null,\"toolbar\":{\"type\":\"object\",\"name\":\"Toolbar\",\"id\":\"p3512\",\"attributes\":{\"tools\":[{\"type\":\"object\",\"name\":\"ToolProxy\",\"id\":\"p3503\",\"attributes\":{\"tools\":[{\"type\":\"object\",\"name\":\"PanTool\",\"id\":\"p3385\"}]}},{\"type\":\"object\",\"name\":\"ToolProxy\",\"id\":\"p3504\",\"attributes\":{\"tools\":[{\"type\":\"object\",\"name\":\"WheelZoomTool\",\"id\":\"p3386\",\"attributes\":{\"renderers\":\"auto\"}}]}},{\"type\":\"object\",\"name\":\"ToolProxy\",\"id\":\"p3505\",\"attributes\":{\"tools\":[{\"type\":\"object\",\"name\":\"BoxZoomTool\",\"id\":\"p3387\",\"attributes\":{\"dimensions\":\"both\",\"overlay\":{\"type\":\"object\",\"name\":\"BoxAnnotation\",\"id\":\"p3388\",\"attributes\":{\"syncable\":false,\"line_color\":\"black\",\"line_alpha\":1.0,\"line_width\":2,\"line_dash\":[4,4],\"fill_color\":\"lightgrey\",\"fill_alpha\":0.5,\"level\":\"overlay\",\"visible\":false,\"left\":{\"type\":\"number\",\"value\":\"nan\"},\"right\":{\"type\":\"number\",\"value\":\"nan\"},\"top\":{\"type\":\"number\",\"value\":\"nan\"},\"bottom\":{\"type\":\"number\",\"value\":\"nan\"},\"left_units\":\"canvas\",\"right_units\":\"canvas\",\"top_units\":\"canvas\",\"bottom_units\":\"canvas\",\"handles\":{\"type\":\"object\",\"name\":\"BoxInteractionHandles\",\"id\":\"p3394\",\"attributes\":{\"all\":{\"type\":\"object\",\"name\":\"AreaVisuals\",\"id\":\"p3393\",\"attributes\":{\"fill_color\":\"white\",\"hover_fill_color\":\"lightgray\"}}}}}}}}]}},{\"type\":\"object\",\"name\":\"ToolProxy\",\"id\":\"p3506\",\"attributes\":{\"tools\":[{\"type\":\"object\",\"name\":\"BoxZoomTool\",\"id\":\"p3417\",\"attributes\":{\"overlay\":{\"type\":\"object\",\"name\":\"BoxAnnotation\",\"id\":\"p3418\",\"attributes\":{\"syncable\":false,\"line_color\":\"black\",\"line_alpha\":1.0,\"line_width\":2,\"line_dash\":[4,4],\"fill_color\":\"lightgrey\",\"fill_alpha\":0.5,\"level\":\"overlay\",\"visible\":false,\"left\":{\"type\":\"number\",\"value\":\"nan\"},\"right\":{\"type\":\"number\",\"value\":\"nan\"},\"top\":{\"type\":\"number\",\"value\":\"nan\"},\"bottom\":{\"type\":\"number\",\"value\":\"nan\"},\"left_units\":\"canvas\",\"right_units\":\"canvas\",\"top_units\":\"canvas\",\"bottom_units\":\"canvas\",\"handles\":{\"type\":\"object\",\"name\":\"BoxInteractionHandles\",\"id\":\"p3424\",\"attributes\":{\"all\":{\"type\":\"object\",\"name\":\"AreaVisuals\",\"id\":\"p3423\",\"attributes\":{\"fill_color\":\"white\",\"hover_fill_color\":\"lightgray\"}}}}}}}},{\"type\":\"object\",\"name\":\"BoxZoomTool\",\"id\":\"p3465\",\"attributes\":{\"overlay\":{\"type\":\"object\",\"name\":\"BoxAnnotation\",\"id\":\"p3466\",\"attributes\":{\"syncable\":false,\"line_color\":\"black\",\"line_alpha\":1.0,\"line_width\":2,\"line_dash\":[4,4],\"fill_color\":\"lightgrey\",\"fill_alpha\":0.5,\"level\":\"overlay\",\"visible\":false,\"left\":{\"type\":\"number\",\"value\":\"nan\"},\"right\":{\"type\":\"number\",\"value\":\"nan\"},\"top\":{\"type\":\"number\",\"value\":\"nan\"},\"bottom\":{\"type\":\"number\",\"value\":\"nan\"},\"left_units\":\"canvas\",\"right_units\":\"canvas\",\"top_units\":\"canvas\",\"bottom_units\":\"canvas\",\"handles\":{\"type\":\"object\",\"name\":\"BoxInteractionHandles\",\"id\":\"p3472\",\"attributes\":{\"all\":{\"type\":\"object\",\"name\":\"AreaVisuals\",\"id\":\"p3471\",\"attributes\":{\"fill_color\":\"white\",\"hover_fill_color\":\"lightgray\"}}}}}}}}]}},{\"type\":\"object\",\"name\":\"SaveTool\",\"id\":\"p3507\"},{\"type\":\"object\",\"name\":\"ToolProxy\",\"id\":\"p3508\",\"attributes\":{\"tools\":[{\"type\":\"object\",\"name\":\"ResetTool\",\"id\":\"p3396\"}]}},{\"type\":\"object\",\"name\":\"ToolProxy\",\"id\":\"p3509\",\"attributes\":{\"tools\":[{\"type\":\"object\",\"name\":\"HelpTool\",\"id\":\"p3397\"}]}},{\"type\":\"object\",\"name\":\"ToolProxy\",\"id\":\"p3510\",\"attributes\":{\"tools\":[{\"type\":\"object\",\"name\":\"BoxSelectTool\",\"id\":\"p3407\",\"attributes\":{\"renderers\":\"auto\",\"overlay\":{\"type\":\"object\",\"name\":\"BoxAnnotation\",\"id\":\"p3408\",\"attributes\":{\"syncable\":false,\"line_color\":\"black\",\"line_alpha\":1.0,\"line_width\":2,\"line_dash\":[4,4],\"fill_color\":\"lightgrey\",\"fill_alpha\":0.5,\"level\":\"overlay\",\"visible\":false,\"left\":{\"type\":\"number\",\"value\":\"nan\"},\"right\":{\"type\":\"number\",\"value\":\"nan\"},\"top\":{\"type\":\"number\",\"value\":\"nan\"},\"bottom\":{\"type\":\"number\",\"value\":\"nan\"},\"editable\":true,\"handles\":{\"type\":\"object\",\"name\":\"BoxInteractionHandles\",\"id\":\"p3414\",\"attributes\":{\"all\":{\"type\":\"object\",\"name\":\"AreaVisuals\",\"id\":\"p3413\",\"attributes\":{\"fill_color\":\"white\",\"hover_fill_color\":\"lightgray\"}}}}}}}},{\"type\":\"object\",\"name\":\"BoxSelectTool\",\"id\":\"p3455\",\"attributes\":{\"renderers\":\"auto\",\"overlay\":{\"type\":\"object\",\"name\":\"BoxAnnotation\",\"id\":\"p3456\",\"attributes\":{\"syncable\":false,\"line_color\":\"black\",\"line_alpha\":1.0,\"line_width\":2,\"line_dash\":[4,4],\"fill_color\":\"lightgrey\",\"fill_alpha\":0.5,\"level\":\"overlay\",\"visible\":false,\"left\":{\"type\":\"number\",\"value\":\"nan\"},\"right\":{\"type\":\"number\",\"value\":\"nan\"},\"top\":{\"type\":\"number\",\"value\":\"nan\"},\"bottom\":{\"type\":\"number\",\"value\":\"nan\"},\"editable\":true,\"handles\":{\"type\":\"object\",\"name\":\"BoxInteractionHandles\",\"id\":\"p3462\",\"attributes\":{\"all\":{\"type\":\"object\",\"name\":\"AreaVisuals\",\"id\":\"p3461\",\"attributes\":{\"fill_color\":\"white\",\"hover_fill_color\":\"lightgray\"}}}}}}}}]}},{\"type\":\"object\",\"name\":\"ToolProxy\",\"id\":\"p3511\",\"attributes\":{\"tools\":[{\"type\":\"object\",\"name\":\"LassoSelectTool\",\"id\":\"p3415\",\"attributes\":{\"renderers\":\"auto\",\"overlay\":{\"type\":\"object\",\"name\":\"PolyAnnotation\",\"id\":\"p3416\",\"attributes\":{\"syncable\":false,\"level\":\"overlay\",\"visible\":false,\"xs\":[],\"ys\":[],\"editable\":true,\"line_color\":\"black\",\"line_alpha\":1.0,\"line_width\":2,\"line_dash\":[4,4],\"fill_color\":\"lightgrey\",\"fill_alpha\":0.5}}}},{\"type\":\"object\",\"name\":\"LassoSelectTool\",\"id\":\"p3463\",\"attributes\":{\"renderers\":\"auto\",\"overlay\":{\"type\":\"object\",\"name\":\"PolyAnnotation\",\"id\":\"p3464\",\"attributes\":{\"syncable\":false,\"level\":\"overlay\",\"visible\":false,\"xs\":[],\"ys\":[],\"editable\":true,\"line_color\":\"black\",\"line_alpha\":1.0,\"line_width\":2,\"line_dash\":[4,4],\"fill_color\":\"lightgrey\",\"fill_alpha\":0.5}}}}]}}],\"autohide\":true}},\"children\":[[{\"type\":\"object\",\"name\":\"Figure\",\"id\":\"p3364\",\"attributes\":{\"width\":250,\"height\":250,\"x_range\":{\"type\":\"object\",\"name\":\"DataRange1d\",\"id\":\"p3365\"},\"y_range\":{\"type\":\"object\",\"name\":\"DataRange1d\",\"id\":\"p3366\"},\"x_scale\":{\"type\":\"object\",\"name\":\"LinearScale\",\"id\":\"p3373\"},\"y_scale\":{\"type\":\"object\",\"name\":\"LinearScale\",\"id\":\"p3374\"},\"title\":null,\"renderers\":[{\"type\":\"object\",\"name\":\"GlyphRenderer\",\"id\":\"p3404\",\"attributes\":{\"data_source\":{\"type\":\"object\",\"name\":\"ColumnDataSource\",\"id\":\"p3398\",\"attributes\":{\"selected\":{\"type\":\"object\",\"name\":\"Selection\",\"id\":\"p3399\",\"attributes\":{\"indices\":[],\"line_indices\":[]}},\"selection_policy\":{\"type\":\"object\",\"name\":\"UnionRenderers\",\"id\":\"p3400\"},\"data\":{\"type\":\"map\",\"entries\":[[\"x\",[0,1,2,3,4,5,6,7,8,9,10,11,12,13,14,15,16,17,18,19,20]],[\"y\",[0,1,2,3,4,5,6,7,8,9,10,11,12,13,14,15,16,17,18,19,20]]]}}},\"view\":{\"type\":\"object\",\"name\":\"CDSView\",\"id\":\"p3405\",\"attributes\":{\"filter\":{\"type\":\"object\",\"name\":\"AllIndices\",\"id\":\"p3406\"}}},\"glyph\":{\"type\":\"object\",\"name\":\"Scatter\",\"id\":\"p3401\",\"attributes\":{\"x\":{\"type\":\"field\",\"field\":\"x\"},\"y\":{\"type\":\"field\",\"field\":\"y\"},\"size\":{\"type\":\"value\",\"value\":10},\"line_color\":{\"type\":\"value\",\"value\":\"navy\"},\"line_alpha\":{\"type\":\"value\",\"value\":0.5},\"fill_color\":{\"type\":\"value\",\"value\":\"navy\"},\"fill_alpha\":{\"type\":\"value\",\"value\":0.5},\"hatch_color\":{\"type\":\"value\",\"value\":\"navy\"},\"hatch_alpha\":{\"type\":\"value\",\"value\":0.5}}},\"nonselection_glyph\":{\"type\":\"object\",\"name\":\"Scatter\",\"id\":\"p3402\",\"attributes\":{\"x\":{\"type\":\"field\",\"field\":\"x\"},\"y\":{\"type\":\"field\",\"field\":\"y\"},\"size\":{\"type\":\"value\",\"value\":10},\"line_color\":{\"type\":\"value\",\"value\":\"navy\"},\"line_alpha\":{\"type\":\"value\",\"value\":0.1},\"fill_color\":{\"type\":\"value\",\"value\":\"navy\"},\"fill_alpha\":{\"type\":\"value\",\"value\":0.1},\"hatch_color\":{\"type\":\"value\",\"value\":\"navy\"},\"hatch_alpha\":{\"type\":\"value\",\"value\":0.1}}},\"muted_glyph\":{\"type\":\"object\",\"name\":\"Scatter\",\"id\":\"p3403\",\"attributes\":{\"x\":{\"type\":\"field\",\"field\":\"x\"},\"y\":{\"type\":\"field\",\"field\":\"y\"},\"size\":{\"type\":\"value\",\"value\":10},\"line_color\":{\"type\":\"value\",\"value\":\"navy\"},\"line_alpha\":{\"type\":\"value\",\"value\":0.2},\"fill_color\":{\"type\":\"value\",\"value\":\"navy\"},\"fill_alpha\":{\"type\":\"value\",\"value\":0.2},\"hatch_color\":{\"type\":\"value\",\"value\":\"navy\"},\"hatch_alpha\":{\"type\":\"value\",\"value\":0.2}}}}}],\"toolbar\":{\"type\":\"object\",\"name\":\"Toolbar\",\"id\":\"p3372\",\"attributes\":{\"tools\":[{\"id\":\"p3385\"},{\"id\":\"p3386\"},{\"id\":\"p3387\"},{\"type\":\"object\",\"name\":\"SaveTool\",\"id\":\"p3395\"},{\"id\":\"p3396\"},{\"id\":\"p3397\"}]}},\"toolbar_location\":null,\"left\":[{\"type\":\"object\",\"name\":\"LinearAxis\",\"id\":\"p3380\",\"attributes\":{\"ticker\":{\"type\":\"object\",\"name\":\"BasicTicker\",\"id\":\"p3381\",\"attributes\":{\"mantissas\":[1,2,5]}},\"formatter\":{\"type\":\"object\",\"name\":\"BasicTickFormatter\",\"id\":\"p3382\"},\"major_label_policy\":{\"type\":\"object\",\"name\":\"AllLabels\",\"id\":\"p3383\"}}}],\"below\":[{\"type\":\"object\",\"name\":\"LinearAxis\",\"id\":\"p3375\",\"attributes\":{\"ticker\":{\"type\":\"object\",\"name\":\"BasicTicker\",\"id\":\"p3376\",\"attributes\":{\"mantissas\":[1,2,5]}},\"formatter\":{\"type\":\"object\",\"name\":\"BasicTickFormatter\",\"id\":\"p3377\"},\"major_label_policy\":{\"type\":\"object\",\"name\":\"AllLabels\",\"id\":\"p3378\"}}}],\"center\":[{\"type\":\"object\",\"name\":\"Grid\",\"id\":\"p3379\",\"attributes\":{\"axis\":{\"id\":\"p3375\"}}},{\"type\":\"object\",\"name\":\"Grid\",\"id\":\"p3384\",\"attributes\":{\"dimension\":1,\"axis\":{\"id\":\"p3380\"}}}]}},0,0],[{\"type\":\"object\",\"name\":\"Figure\",\"id\":\"p3425\",\"attributes\":{\"width\":250,\"height\":250,\"x_range\":{\"id\":\"p3365\"},\"y_range\":{\"id\":\"p3366\"},\"x_scale\":{\"type\":\"object\",\"name\":\"LinearScale\",\"id\":\"p3434\"},\"y_scale\":{\"type\":\"object\",\"name\":\"LinearScale\",\"id\":\"p3435\"},\"title\":null,\"renderers\":[{\"type\":\"object\",\"name\":\"GlyphRenderer\",\"id\":\"p3452\",\"attributes\":{\"data_source\":{\"type\":\"object\",\"name\":\"ColumnDataSource\",\"id\":\"p3446\",\"attributes\":{\"selected\":{\"type\":\"object\",\"name\":\"Selection\",\"id\":\"p3447\",\"attributes\":{\"indices\":[],\"line_indices\":[]}},\"selection_policy\":{\"type\":\"object\",\"name\":\"UnionRenderers\",\"id\":\"p3448\"},\"data\":{\"type\":\"map\",\"entries\":[[\"x\",[0,1,2,3,4,5,6,7,8,9,10,11,12,13,14,15,16,17,18,19,20]],[\"y\",[20,19,18,17,16,15,14,13,12,11,10,9,8,7,6,5,4,3,2,1,0]]]}}},\"view\":{\"type\":\"object\",\"name\":\"CDSView\",\"id\":\"p3453\",\"attributes\":{\"filter\":{\"type\":\"object\",\"name\":\"AllIndices\",\"id\":\"p3454\"}}},\"glyph\":{\"type\":\"object\",\"name\":\"Scatter\",\"id\":\"p3449\",\"attributes\":{\"x\":{\"type\":\"field\",\"field\":\"x\"},\"y\":{\"type\":\"field\",\"field\":\"y\"},\"size\":{\"type\":\"value\",\"value\":10},\"line_color\":{\"type\":\"value\",\"value\":\"firebrick\"},\"line_alpha\":{\"type\":\"value\",\"value\":0.5},\"fill_color\":{\"type\":\"value\",\"value\":\"firebrick\"},\"fill_alpha\":{\"type\":\"value\",\"value\":0.5},\"hatch_color\":{\"type\":\"value\",\"value\":\"firebrick\"},\"hatch_alpha\":{\"type\":\"value\",\"value\":0.5},\"marker\":{\"type\":\"value\",\"value\":\"triangle\"}}},\"nonselection_glyph\":{\"type\":\"object\",\"name\":\"Scatter\",\"id\":\"p3450\",\"attributes\":{\"x\":{\"type\":\"field\",\"field\":\"x\"},\"y\":{\"type\":\"field\",\"field\":\"y\"},\"size\":{\"type\":\"value\",\"value\":10},\"line_color\":{\"type\":\"value\",\"value\":\"firebrick\"},\"line_alpha\":{\"type\":\"value\",\"value\":0.1},\"fill_color\":{\"type\":\"value\",\"value\":\"firebrick\"},\"fill_alpha\":{\"type\":\"value\",\"value\":0.1},\"hatch_color\":{\"type\":\"value\",\"value\":\"firebrick\"},\"hatch_alpha\":{\"type\":\"value\",\"value\":0.1},\"marker\":{\"type\":\"value\",\"value\":\"triangle\"}}},\"muted_glyph\":{\"type\":\"object\",\"name\":\"Scatter\",\"id\":\"p3451\",\"attributes\":{\"x\":{\"type\":\"field\",\"field\":\"x\"},\"y\":{\"type\":\"field\",\"field\":\"y\"},\"size\":{\"type\":\"value\",\"value\":10},\"line_color\":{\"type\":\"value\",\"value\":\"firebrick\"},\"line_alpha\":{\"type\":\"value\",\"value\":0.2},\"fill_color\":{\"type\":\"value\",\"value\":\"firebrick\"},\"fill_alpha\":{\"type\":\"value\",\"value\":0.2},\"hatch_color\":{\"type\":\"value\",\"value\":\"firebrick\"},\"hatch_alpha\":{\"type\":\"value\",\"value\":0.2},\"marker\":{\"type\":\"value\",\"value\":\"triangle\"}}}}}],\"toolbar\":{\"type\":\"object\",\"name\":\"Toolbar\",\"id\":\"p3433\",\"attributes\":{\"tools\":[{\"id\":\"p3407\"},{\"id\":\"p3415\"},{\"id\":\"p3417\"}]}},\"toolbar_location\":null,\"left\":[{\"type\":\"object\",\"name\":\"LinearAxis\",\"id\":\"p3441\",\"attributes\":{\"ticker\":{\"type\":\"object\",\"name\":\"BasicTicker\",\"id\":\"p3442\",\"attributes\":{\"mantissas\":[1,2,5]}},\"formatter\":{\"type\":\"object\",\"name\":\"BasicTickFormatter\",\"id\":\"p3443\"},\"major_label_policy\":{\"type\":\"object\",\"name\":\"AllLabels\",\"id\":\"p3444\"}}}],\"below\":[{\"type\":\"object\",\"name\":\"LinearAxis\",\"id\":\"p3436\",\"attributes\":{\"ticker\":{\"type\":\"object\",\"name\":\"BasicTicker\",\"id\":\"p3437\",\"attributes\":{\"mantissas\":[1,2,5]}},\"formatter\":{\"type\":\"object\",\"name\":\"BasicTickFormatter\",\"id\":\"p3438\"},\"major_label_policy\":{\"type\":\"object\",\"name\":\"AllLabels\",\"id\":\"p3439\"}}}],\"center\":[{\"type\":\"object\",\"name\":\"Grid\",\"id\":\"p3440\",\"attributes\":{\"axis\":{\"id\":\"p3436\"}}},{\"type\":\"object\",\"name\":\"Grid\",\"id\":\"p3445\",\"attributes\":{\"dimension\":1,\"axis\":{\"id\":\"p3441\"}}}]}},0,1],[{\"type\":\"object\",\"name\":\"Figure\",\"id\":\"p3473\",\"attributes\":{\"width\":250,\"height\":250,\"x_range\":{\"id\":\"p3365\"},\"y_range\":{\"type\":\"object\",\"name\":\"DataRange1d\",\"id\":\"p3475\"},\"x_scale\":{\"type\":\"object\",\"name\":\"LinearScale\",\"id\":\"p3482\"},\"y_scale\":{\"type\":\"object\",\"name\":\"LinearScale\",\"id\":\"p3483\"},\"title\":null,\"renderers\":[{\"type\":\"object\",\"name\":\"GlyphRenderer\",\"id\":\"p3500\",\"attributes\":{\"data_source\":{\"type\":\"object\",\"name\":\"ColumnDataSource\",\"id\":\"p3494\",\"attributes\":{\"selected\":{\"type\":\"object\",\"name\":\"Selection\",\"id\":\"p3495\",\"attributes\":{\"indices\":[],\"line_indices\":[]}},\"selection_policy\":{\"type\":\"object\",\"name\":\"UnionRenderers\",\"id\":\"p3496\"},\"data\":{\"type\":\"map\",\"entries\":[[\"x\",[0,1,2,3,4,5,6,7,8,9,10,11,12,13,14,15,16,17,18,19,20]],[\"y\",[10,9,8,7,6,5,4,3,2,1,0,1,2,3,4,5,6,7,8,9,10]]]}}},\"view\":{\"type\":\"object\",\"name\":\"CDSView\",\"id\":\"p3501\",\"attributes\":{\"filter\":{\"type\":\"object\",\"name\":\"AllIndices\",\"id\":\"p3502\"}}},\"glyph\":{\"type\":\"object\",\"name\":\"Scatter\",\"id\":\"p3497\",\"attributes\":{\"x\":{\"type\":\"field\",\"field\":\"x\"},\"y\":{\"type\":\"field\",\"field\":\"y\"},\"size\":{\"type\":\"value\",\"value\":10},\"line_color\":{\"type\":\"value\",\"value\":\"olive\"},\"line_alpha\":{\"type\":\"value\",\"value\":0.5},\"fill_color\":{\"type\":\"value\",\"value\":\"olive\"},\"fill_alpha\":{\"type\":\"value\",\"value\":0.5},\"hatch_color\":{\"type\":\"value\",\"value\":\"olive\"},\"hatch_alpha\":{\"type\":\"value\",\"value\":0.5},\"marker\":{\"type\":\"value\",\"value\":\"square\"}}},\"nonselection_glyph\":{\"type\":\"object\",\"name\":\"Scatter\",\"id\":\"p3498\",\"attributes\":{\"x\":{\"type\":\"field\",\"field\":\"x\"},\"y\":{\"type\":\"field\",\"field\":\"y\"},\"size\":{\"type\":\"value\",\"value\":10},\"line_color\":{\"type\":\"value\",\"value\":\"olive\"},\"line_alpha\":{\"type\":\"value\",\"value\":0.1},\"fill_color\":{\"type\":\"value\",\"value\":\"olive\"},\"fill_alpha\":{\"type\":\"value\",\"value\":0.1},\"hatch_color\":{\"type\":\"value\",\"value\":\"olive\"},\"hatch_alpha\":{\"type\":\"value\",\"value\":0.1},\"marker\":{\"type\":\"value\",\"value\":\"square\"}}},\"muted_glyph\":{\"type\":\"object\",\"name\":\"Scatter\",\"id\":\"p3499\",\"attributes\":{\"x\":{\"type\":\"field\",\"field\":\"x\"},\"y\":{\"type\":\"field\",\"field\":\"y\"},\"size\":{\"type\":\"value\",\"value\":10},\"line_color\":{\"type\":\"value\",\"value\":\"olive\"},\"line_alpha\":{\"type\":\"value\",\"value\":0.2},\"fill_color\":{\"type\":\"value\",\"value\":\"olive\"},\"fill_alpha\":{\"type\":\"value\",\"value\":0.2},\"hatch_color\":{\"type\":\"value\",\"value\":\"olive\"},\"hatch_alpha\":{\"type\":\"value\",\"value\":0.2},\"marker\":{\"type\":\"value\",\"value\":\"square\"}}}}}],\"toolbar\":{\"type\":\"object\",\"name\":\"Toolbar\",\"id\":\"p3481\",\"attributes\":{\"tools\":[{\"id\":\"p3455\"},{\"id\":\"p3463\"},{\"id\":\"p3465\"}]}},\"toolbar_location\":null,\"left\":[{\"type\":\"object\",\"name\":\"LinearAxis\",\"id\":\"p3489\",\"attributes\":{\"ticker\":{\"type\":\"object\",\"name\":\"BasicTicker\",\"id\":\"p3490\",\"attributes\":{\"mantissas\":[1,2,5]}},\"formatter\":{\"type\":\"object\",\"name\":\"BasicTickFormatter\",\"id\":\"p3491\"},\"major_label_policy\":{\"type\":\"object\",\"name\":\"AllLabels\",\"id\":\"p3492\"}}}],\"below\":[{\"type\":\"object\",\"name\":\"LinearAxis\",\"id\":\"p3484\",\"attributes\":{\"ticker\":{\"type\":\"object\",\"name\":\"BasicTicker\",\"id\":\"p3485\",\"attributes\":{\"mantissas\":[1,2,5]}},\"formatter\":{\"type\":\"object\",\"name\":\"BasicTickFormatter\",\"id\":\"p3486\"},\"major_label_policy\":{\"type\":\"object\",\"name\":\"AllLabels\",\"id\":\"p3487\"}}}],\"center\":[{\"type\":\"object\",\"name\":\"Grid\",\"id\":\"p3488\",\"attributes\":{\"axis\":{\"id\":\"p3484\"}}},{\"type\":\"object\",\"name\":\"Grid\",\"id\":\"p3493\",\"attributes\":{\"dimension\":1,\"axis\":{\"id\":\"p3489\"}}}]}},0,2]]}}]}};\n  const render_items = [{\"docid\":\"d33a24ed-58bb-4394-a0f7-09f0710dd98c\",\"roots\":{\"p3513\":\"c8e14fe5-3102-404e-8e7d-0b0b60f7ba45\"},\"root_ids\":[\"p3513\"]}];\n  void root.Bokeh.embed.embed_items_notebook(docs_json, render_items);\n  }\n  if (root.Bokeh !== undefined) {\n    embed_document(root);\n  } else {\n    let attempts = 0;\n    const timer = setInterval(function(root) {\n      if (root.Bokeh !== undefined) {\n        clearInterval(timer);\n        embed_document(root);\n      } else {\n        attempts++;\n        if (attempts > 100) {\n          clearInterval(timer);\n          console.log(\"Bokeh: ERROR: Unable to run BokehJS code because BokehJS library is missing\");\n        }\n      }\n    }, 10, root)\n  }\n})(window);",
      "application/vnd.bokehjs_exec.v0+json": ""
     },
     "metadata": {
      "application/vnd.bokehjs_exec.v0+json": {
       "id": "p3513"
      }
     },
     "output_type": "display_data"
    }
   ],
   "source": [
    "from bokeh.layouts import gridplot\n",
    "from bokeh.plotting import figure, show\n",
    "from bokeh.models import BoxSelectTool, BoxZoomTool, LassoSelectTool\n",
    "\n",
    "x = list(range(21))\n",
    "y0 = x\n",
    "y1 = [20-xx for xx in x]\n",
    "y2 = [abs(xx-10) for xx in x]\n",
    "\n",
    "# create a new plot\n",
    "s1 = figure(width=250, height=250, title=None)\n",
    "s1.scatter(x, y0, size=10, color=\"navy\", alpha=0.5)\n",
    "\n",
    "# create a new plot and share both ranges\n",
    "s2 = figure(width=250, height=250, x_range=s1.x_range, y_range=s1.y_range, title=None, tools=[BoxSelectTool(), LassoSelectTool(), BoxZoomTool()])\n",
    "s2.scatter(x, y1, size=10, marker=\"triangle\", color=\"firebrick\", alpha=0.5)\n",
    "\n",
    "# create a new plot and share only one range\n",
    "s3 = figure(width=250, height=250, x_range=s1.x_range, title=None, tools=[BoxSelectTool(), LassoSelectTool(), BoxZoomTool()])\n",
    "s3.scatter(x, y2, size=10, marker=\"square\", color=\"olive\", alpha=0.5)\n",
    "\n",
    "p = gridplot([[s1, s2, s3]])#, toolbar_location=None)\n",
    "\n",
    "p.toolbar.autohide = True\n",
    "\n",
    "\n",
    "show(p)"
   ]
  },
  {
   "cell_type": "code",
   "execution_count": 38,
   "id": "68f7f53c",
   "metadata": {},
   "outputs": [
    {
     "data": {
      "text/html": [
       "\n",
       "  <div id=\"dbf0d478-014e-4b62-ba08-0ac5e4edc28b\" data-root-id=\"p2747\" style=\"display: contents;\"></div>\n"
      ]
     },
     "metadata": {},
     "output_type": "display_data"
    },
    {
     "data": {
      "application/javascript": "(function(root) {\n  function embed_document(root) {\n  const docs_json = {\"e3c18c5d-82b9-4bc3-b800-458a0b9dcaaf\":{\"version\":\"3.8.0\",\"title\":\"Bokeh Application\",\"config\":{\"type\":\"object\",\"name\":\"DocumentConfig\",\"id\":\"p2797\",\"attributes\":{\"notifications\":{\"type\":\"object\",\"name\":\"Notifications\",\"id\":\"p2798\"}}},\"roots\":[{\"type\":\"object\",\"name\":\"Figure\",\"id\":\"p2747\",\"attributes\":{\"width\":400,\"height\":400,\"x_range\":{\"type\":\"object\",\"name\":\"DataRange1d\",\"id\":\"p2748\"},\"y_range\":{\"type\":\"object\",\"name\":\"DataRange1d\",\"id\":\"p2749\"},\"x_scale\":{\"type\":\"object\",\"name\":\"LinearScale\",\"id\":\"p2757\"},\"y_scale\":{\"type\":\"object\",\"name\":\"LinearScale\",\"id\":\"p2758\"},\"title\":{\"type\":\"object\",\"name\":\"Title\",\"id\":\"p2750\",\"attributes\":{\"text\":\"Select and Zoom\"}},\"renderers\":[{\"type\":\"object\",\"name\":\"GlyphRenderer\",\"id\":\"p2794\",\"attributes\":{\"data_source\":{\"type\":\"object\",\"name\":\"ColumnDataSource\",\"id\":\"p2788\",\"attributes\":{\"selected\":{\"type\":\"object\",\"name\":\"Selection\",\"id\":\"p2789\",\"attributes\":{\"indices\":[],\"line_indices\":[]}},\"selection_policy\":{\"type\":\"object\",\"name\":\"UnionRenderers\",\"id\":\"p2790\"},\"data\":{\"type\":\"map\",\"entries\":[[\"x\",{\"type\":\"ndarray\",\"array\":{\"type\":\"bytes\",\"data\":\"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\"},\"shape\":[200],\"dtype\":\"float64\",\"order\":\"little\"}],[\"y\",{\"type\":\"ndarray\",\"array\":{\"type\":\"bytes\",\"data\":\"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\"},\"shape\":[200],\"dtype\":\"float64\",\"order\":\"little\"}]]}}},\"view\":{\"type\":\"object\",\"name\":\"CDSView\",\"id\":\"p2795\",\"attributes\":{\"filter\":{\"type\":\"object\",\"name\":\"AllIndices\",\"id\":\"p2796\"}}},\"glyph\":{\"type\":\"object\",\"name\":\"Scatter\",\"id\":\"p2791\",\"attributes\":{\"x\":{\"type\":\"field\",\"field\":\"x\"},\"y\":{\"type\":\"field\",\"field\":\"y\"},\"size\":{\"type\":\"value\",\"value\":5},\"line_color\":{\"type\":\"value\",\"value\":\"#1f77b4\"},\"fill_color\":{\"type\":\"value\",\"value\":\"#1f77b4\"}}},\"nonselection_glyph\":{\"type\":\"object\",\"name\":\"Scatter\",\"id\":\"p2792\",\"attributes\":{\"x\":{\"type\":\"field\",\"field\":\"x\"},\"y\":{\"type\":\"field\",\"field\":\"y\"},\"size\":{\"type\":\"value\",\"value\":5},\"line_color\":{\"type\":\"value\",\"value\":\"#1f77b4\"},\"line_alpha\":{\"type\":\"value\",\"value\":0.1},\"fill_color\":{\"type\":\"value\",\"value\":\"#1f77b4\"},\"fill_alpha\":{\"type\":\"value\",\"value\":0.1},\"hatch_alpha\":{\"type\":\"value\",\"value\":0.1}}},\"muted_glyph\":{\"type\":\"object\",\"name\":\"Scatter\",\"id\":\"p2793\",\"attributes\":{\"x\":{\"type\":\"field\",\"field\":\"x\"},\"y\":{\"type\":\"field\",\"field\":\"y\"},\"size\":{\"type\":\"value\",\"value\":5},\"line_color\":{\"type\":\"value\",\"value\":\"#1f77b4\"},\"line_alpha\":{\"type\":\"value\",\"value\":0.2},\"fill_color\":{\"type\":\"value\",\"value\":\"#1f77b4\"},\"fill_alpha\":{\"type\":\"value\",\"value\":0.2},\"hatch_alpha\":{\"type\":\"value\",\"value\":0.2}}}}}],\"toolbar\":{\"type\":\"object\",\"name\":\"Toolbar\",\"id\":\"p2756\",\"attributes\":{\"tools\":[{\"type\":\"object\",\"name\":\"BoxSelectTool\",\"id\":\"p2769\",\"attributes\":{\"renderers\":\"auto\",\"overlay\":{\"type\":\"object\",\"name\":\"BoxAnnotation\",\"id\":\"p2770\",\"attributes\":{\"syncable\":false,\"line_color\":null,\"line_alpha\":1.0,\"line_width\":2,\"line_dash\":[4,4],\"fill_color\":\"firebrick\",\"fill_alpha\":0.5,\"level\":\"overlay\",\"visible\":false,\"left\":{\"type\":\"number\",\"value\":\"nan\"},\"right\":{\"type\":\"number\",\"value\":\"nan\"},\"top\":{\"type\":\"number\",\"value\":\"nan\"},\"bottom\":{\"type\":\"number\",\"value\":\"nan\"},\"editable\":true,\"handles\":{\"type\":\"object\",\"name\":\"BoxInteractionHandles\",\"id\":\"p2776\",\"attributes\":{\"all\":{\"type\":\"object\",\"name\":\"AreaVisuals\",\"id\":\"p2775\",\"attributes\":{\"fill_color\":\"white\",\"hover_fill_color\":\"lightgray\"}}}}}}}},{\"type\":\"object\",\"name\":\"BoxZoomTool\",\"id\":\"p2777\",\"attributes\":{\"dimensions\":\"both\",\"overlay\":{\"type\":\"object\",\"name\":\"BoxAnnotation\",\"id\":\"p2778\",\"attributes\":{\"syncable\":false,\"line_color\":\"olive\",\"line_alpha\":1.0,\"line_width\":8,\"line_dash\":[],\"fill_color\":null,\"fill_alpha\":0.5,\"level\":\"overlay\",\"visible\":false,\"left\":{\"type\":\"number\",\"value\":\"nan\"},\"right\":{\"type\":\"number\",\"value\":\"nan\"},\"top\":{\"type\":\"number\",\"value\":\"nan\"},\"bottom\":{\"type\":\"number\",\"value\":\"nan\"},\"left_units\":\"canvas\",\"right_units\":\"canvas\",\"top_units\":\"canvas\",\"bottom_units\":\"canvas\",\"handles\":{\"type\":\"object\",\"name\":\"BoxInteractionHandles\",\"id\":\"p2784\",\"attributes\":{\"all\":{\"type\":\"object\",\"name\":\"AreaVisuals\",\"id\":\"p2783\",\"attributes\":{\"fill_color\":\"white\",\"hover_fill_color\":\"lightgray\"}}}}}}}},{\"type\":\"object\",\"name\":\"LassoSelectTool\",\"id\":\"p2785\",\"attributes\":{\"renderers\":\"auto\",\"overlay\":{\"type\":\"object\",\"name\":\"PolyAnnotation\",\"id\":\"p2786\",\"attributes\":{\"syncable\":false,\"level\":\"overlay\",\"visible\":false,\"xs\":[],\"ys\":[],\"editable\":true,\"line_color\":\"black\",\"line_alpha\":1.0,\"line_width\":2,\"line_dash\":[10,10],\"fill_color\":\"lightgrey\",\"fill_alpha\":0.5}}}},{\"type\":\"object\",\"name\":\"ResetTool\",\"id\":\"p2787\"}]}},\"left\":[{\"type\":\"object\",\"name\":\"LinearAxis\",\"id\":\"p2764\",\"attributes\":{\"ticker\":{\"type\":\"object\",\"name\":\"BasicTicker\",\"id\":\"p2765\",\"attributes\":{\"mantissas\":[1,2,5]}},\"formatter\":{\"type\":\"object\",\"name\":\"BasicTickFormatter\",\"id\":\"p2766\"},\"major_label_policy\":{\"type\":\"object\",\"name\":\"AllLabels\",\"id\":\"p2767\"}}}],\"below\":[{\"type\":\"object\",\"name\":\"LinearAxis\",\"id\":\"p2759\",\"attributes\":{\"ticker\":{\"type\":\"object\",\"name\":\"BasicTicker\",\"id\":\"p2760\",\"attributes\":{\"mantissas\":[1,2,5]}},\"formatter\":{\"type\":\"object\",\"name\":\"BasicTickFormatter\",\"id\":\"p2761\"},\"major_label_policy\":{\"type\":\"object\",\"name\":\"AllLabels\",\"id\":\"p2762\"}}}],\"center\":[{\"type\":\"object\",\"name\":\"Grid\",\"id\":\"p2763\",\"attributes\":{\"axis\":{\"id\":\"p2759\"}}},{\"type\":\"object\",\"name\":\"Grid\",\"id\":\"p2768\",\"attributes\":{\"dimension\":1,\"axis\":{\"id\":\"p2764\"}}}]}}]}};\n  const render_items = [{\"docid\":\"e3c18c5d-82b9-4bc3-b800-458a0b9dcaaf\",\"roots\":{\"p2747\":\"dbf0d478-014e-4b62-ba08-0ac5e4edc28b\"},\"root_ids\":[\"p2747\"]}];\n  void root.Bokeh.embed.embed_items_notebook(docs_json, render_items);\n  }\n  if (root.Bokeh !== undefined) {\n    embed_document(root);\n  } else {\n    let attempts = 0;\n    const timer = setInterval(function(root) {\n      if (root.Bokeh !== undefined) {\n        clearInterval(timer);\n        embed_document(root);\n      } else {\n        attempts++;\n        if (attempts > 100) {\n          clearInterval(timer);\n          console.log(\"Bokeh: ERROR: Unable to run BokehJS code because BokehJS library is missing\");\n        }\n      }\n    }, 10, root)\n  }\n})(window);",
      "application/vnd.bokehjs_exec.v0+json": ""
     },
     "metadata": {
      "application/vnd.bokehjs_exec.v0+json": {
       "id": "p2747"
      }
     },
     "output_type": "display_data"
    }
   ],
   "source": [
    "import numpy as np\n",
    "\n",
    "from bokeh.models import BoxSelectTool, BoxZoomTool, LassoSelectTool\n",
    "from bokeh.plotting import figure, show\n",
    "\n",
    "x = np.random.random(size=200)\n",
    "y = np.random.random(size=200)\n",
    "\n",
    "# Basic plot setup\n",
    "plot = figure(width=400, height=400, title='Select and Zoom',\n",
    "              tools=\"box_select,box_zoom,lasso_select,reset\")\n",
    "\n",
    "plot.scatter(x, y, size=5)\n",
    "\n",
    "select_overlay = plot.select_one(BoxSelectTool).overlay\n",
    "\n",
    "select_overlay.fill_color = \"firebrick\"\n",
    "select_overlay.line_color = None\n",
    "\n",
    "zoom_overlay = plot.select_one(BoxZoomTool).overlay\n",
    "\n",
    "zoom_overlay.line_color = \"olive\"\n",
    "zoom_overlay.line_width = 8\n",
    "zoom_overlay.line_dash = \"solid\"\n",
    "zoom_overlay.fill_color = None\n",
    "\n",
    "plot.select_one(LassoSelectTool).overlay.line_dash = [10, 10]\n",
    "\n",
    "show(plot)"
   ]
  }
 ],
 "metadata": {
  "kernelspec": {
   "display_name": ".venv",
   "language": "python",
   "name": "python3"
  },
  "language_info": {
   "codemirror_mode": {
    "name": "ipython",
    "version": 3
   },
   "file_extension": ".py",
   "mimetype": "text/x-python",
   "name": "python",
   "nbconvert_exporter": "python",
   "pygments_lexer": "ipython3",
   "version": "3.12.9"
  }
 },
 "nbformat": 4,
 "nbformat_minor": 5
}
